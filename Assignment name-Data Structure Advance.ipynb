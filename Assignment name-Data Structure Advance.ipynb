{
 "cells": [
  {
   "cell_type": "code",
   "execution_count": 1,
   "id": "e762f302",
   "metadata": {},
   "outputs": [
    {
     "data": {
      "text/plain": [
       "'tuaR najnaR veD'"
      ]
     },
     "execution_count": 1,
     "metadata": {},
     "output_type": "execute_result"
    }
   ],
   "source": [
    "#.Q.1 . Write a code to reverse a string.\n",
    "string=\"Dev Ranjan Raut\"\n",
    "string[::-1]"
   ]
  },
  {
   "cell_type": "code",
   "execution_count": 2,
   "id": "299d81fd",
   "metadata": {},
   "outputs": [
    {
     "name": "stdout",
     "output_type": "stream",
     "text": [
      "The count of vowels in a string is : 5\n"
     ]
    }
   ],
   "source": [
    "#.Q.2. Write a code to count the number of vowels in a string.\n",
    "vowels=[\"a\",\"e\",\"i\",\"o\",\"u\"]\n",
    "count=0\n",
    "string=\"Dev Ranjan Raut\"\n",
    "for i in string:\n",
    "    if i.lower() in vowels:\n",
    "        count+=1\n",
    "print(f\"The count of vowels in a string is : {count}\")"
   ]
  },
  {
   "cell_type": "code",
   "execution_count": 4,
   "id": "e6579e59",
   "metadata": {},
   "outputs": [
    {
     "name": "stdout",
     "output_type": "stream",
     "text": [
      "Enter a string to check for palindrome : madam\n",
      "The given string is palindrome\n"
     ]
    }
   ],
   "source": [
    "#.Q.3 Write a code to check if a given string is a palindrome or not.\n",
    "string=str(input(\"Enter a string to check for palindrome : \"))\n",
    "if string[::-1] == string:\n",
    "    print(\"The given string is palindrome\")\n",
    "else:\n",
    "    print(\"The given string is not panlindrome\")"
   ]
  },
  {
   "cell_type": "code",
   "execution_count": 6,
   "id": "acd3153f",
   "metadata": {},
   "outputs": [
    {
     "name": "stdout",
     "output_type": "stream",
     "text": [
      "Enter your 1st string: cat\n",
      "Enter your 2nd string: act\n",
      "The given strings are anagram \n"
     ]
    }
   ],
   "source": [
    "#.Q.4. Write a code to check if two given strings are anagrams of each other.\n",
    "string1=str(input(\"Enter your 1st string: \"))\n",
    "string2=str(input(\"Enter your 2nd string: \"))\n",
    "if sorted(string1.lower())==sorted(string2.lower()):\n",
    "    print(\"The given strings are anagram \")\n",
    "else:\n",
    "    print(\"The given strings are not anagram\")"
   ]
  },
  {
   "cell_type": "code",
   "execution_count": 7,
   "id": "45b8c7ca",
   "metadata": {},
   "outputs": [
    {
     "name": "stdout",
     "output_type": "stream",
     "text": [
      "Starting index's at which substring is present in string: [16, 41]\n"
     ]
    }
   ],
   "source": [
    "#.Q.5.Write a code to find all occurrences of a given substring within another string.\n",
    "string=\"Dev is learning Datascience with pwskill.Datascience is in trending nowadays.\"\n",
    "substring=\"datascience\"\n",
    "lst=[]\n",
    "if substring.lower() in string.lower():\n",
    "    for i in range(len(string)):\n",
    "        if string.lower().startswith(substring.lower(),i):\n",
    "            lst.append(i)\n",
    "print(\"Starting index's at which substring is present in string:\",lst)"
   ]
  },
  {
   "cell_type": "code",
   "execution_count": 9,
   "id": "743acd84",
   "metadata": {},
   "outputs": [
    {
     "name": "stdout",
     "output_type": "stream",
     "text": [
      "String after compression : d1e1v1r2a3n2j1u1t1\n"
     ]
    }
   ],
   "source": [
    "#.Q.6.Write a code to perform basic string compression using the counts of repeated characters.\n",
    "string=\"devranjanraut\"\n",
    "lst=[]\n",
    "for i in string:\n",
    "    if (i+str(string.count(i))) not in lst:\n",
    "        lst.append(i+str(string.count(i)))\n",
    "    #compressed_set=set(lst)\n",
    "        compressed_str=\"\".join(lst)\n",
    "print(\"String after compression :\",compressed_str)"
   ]
  },
  {
   "cell_type": "code",
   "execution_count": 11,
   "id": "9127c981",
   "metadata": {},
   "outputs": [
    {
     "name": "stdout",
     "output_type": "stream",
     "text": [
      "Enter a string: data\n",
      "String hasn't all unique characters\n"
     ]
    }
   ],
   "source": [
    "#.Q.7.Write a code to determine if a string has all unique characters.\n",
    "string=str(input(\"Enter a string: \"))\n",
    "if len(string)==len(\"\".join(set(string))):\n",
    "    print(\"String has all unique characters\")\n",
    "else:\n",
    "    print(\"String hasn't all unique characters\")"
   ]
  },
  {
   "cell_type": "code",
   "execution_count": 13,
   "id": "aca6921c",
   "metadata": {},
   "outputs": [
    {
     "name": "stdout",
     "output_type": "stream",
     "text": [
      "Enter a string: dev\n",
      "In lower string: dev\n",
      "In upper string: DEV\n"
     ]
    }
   ],
   "source": [
    "#.Q.8.Write a code to convert a given string to uppercase or lowercase.\n",
    "string=str(input(\"Enter a string: \"))\n",
    "lower_string=string.lower()#to convert a string in lowercase\n",
    "upper_string=string.upper()#to convert a string in uppercase\n",
    "print(\"In lower string:\",lower_string)\n",
    "print(\"In upper string:\",upper_string)"
   ]
  },
  {
   "cell_type": "code",
   "execution_count": 14,
   "id": "1fdebcee",
   "metadata": {},
   "outputs": [
    {
     "name": "stdout",
     "output_type": "stream",
     "text": [
      "The count of words in a string : 3\n"
     ]
    }
   ],
   "source": [
    "#.Q.9.Write a code to count the number of words in a string.\n",
    "string=\"Dev Ranjan Raut\"\n",
    "strn=string.split()\n",
    "#strn=string.split(\".\")\n",
    "print(\"The count of words in a string :\",len(strn))"
   ]
  },
  {
   "cell_type": "code",
   "execution_count": 15,
   "id": "28a101b7",
   "metadata": {},
   "outputs": [
    {
     "name": "stdout",
     "output_type": "stream",
     "text": [
      "Concatenated String: devranjan\n"
     ]
    }
   ],
   "source": [
    "#.Q.10. Write a code to concatenate two strings without using the + operator.\n",
    "str1=\"dev\"\n",
    "str2=\"ranjan\"\n",
    "concatenated_strings=\"\".join([str1,str2])\n",
    "print(\"Concatenated String:\",concatenated_strings)"
   ]
  },
  {
   "cell_type": "code",
   "execution_count": 16,
   "id": "c17fe06b",
   "metadata": {},
   "outputs": [
    {
     "name": "stdout",
     "output_type": "stream",
     "text": [
      "String after removal of string: ['Guava', 'pomogranate', 'apple']\n"
     ]
    }
   ],
   "source": [
    "#.Q.11.Write a code to remove all occurrences of a specific element from a list.\n",
    "fruit_list=[\"Guava\",\"mango\",\"pomogranate\",\"apple\",\"mango\"]\n",
    "element=\"mango\"\n",
    "while element in fruit_list:\n",
    "    fruit_list.remove(element)\n",
    "print(\"String after removal of string:\",fruit_list)"
   ]
  },
  {
   "cell_type": "code",
   "execution_count": 17,
   "id": "af4b0e92",
   "metadata": {},
   "outputs": [
    {
     "name": "stdout",
     "output_type": "stream",
     "text": [
      "The second largest number in a given list of integers: 3456\n"
     ]
    }
   ],
   "source": [
    "#.Q.12. Implement a code to find the second largest number in a given list of integers.\n",
    "num_list=[1123,123,543,7654,3456]\n",
    "num_list.sort()\n",
    "second_largest_number=num_list[-2]\n",
    "print(\"The second largest number in a given list of integers:\", second_largest_number)"
   ]
  },
  {
   "cell_type": "code",
   "execution_count": 18,
   "id": "38e1608c",
   "metadata": {},
   "outputs": [
    {
     "name": "stdout",
     "output_type": "stream",
     "text": [
      "{'spinach': 2, 'cucumber': 3, 'bottle gourd': 1, 'bitter melon': 1, 'pointed gourd': 1, 'cauliflower': 1, 'cabbage': 2}\n"
     ]
    }
   ],
   "source": [
    "'''Q.13. Create a code to count the occurrences of each element in a list and return a dictionary with elements as\n",
    "keys and their counts as values.'''\n",
    "veg_list=[\"spinach\",\"cucumber\",\"bottle gourd\",\"bitter melon\",\"pointed gourd\",\"cauliflower\",\"cabbage\",\"cucumber\",\"cabbage\",\"spinach\",\"cucumber\"]\n",
    "dict_veg_list={i:veg_list.count(i) for i in veg_list}\n",
    "print(dict_veg_list)"
   ]
  },
  {
   "cell_type": "code",
   "execution_count": 19,
   "id": "6691fa28",
   "metadata": {},
   "outputs": [
    {
     "name": "stdout",
     "output_type": "stream",
     "text": [
      "List after getting reversed: ['kalu', 'Golu', 'Annant', 'Anand', 'Dev']\n"
     ]
    }
   ],
   "source": [
    "#.Q.14.Write a code to reverse a list in-place without using any built-in reverse functions.\n",
    "name_list=[\"Dev\",\"Anand\",\"Annant\",\"Golu\",\"kalu\"]\n",
    "reverse_name_list=[]\n",
    "for i in name_list:\n",
    "    reverse_name_list.insert(0,i)\n",
    "print(\"List after getting reversed:\", reverse_name_list)"
   ]
  },
  {
   "cell_type": "code",
   "execution_count": 20,
   "id": "584e6d2f",
   "metadata": {},
   "outputs": [
    {
     "name": "stdout",
     "output_type": "stream",
     "text": [
      "Originally the list is: ['Dev', 'Ranjan', 'Raut', 1, 543, True, None, True, 123, 1, 'Dev']\n",
      "List after removal of duplicates: ['Dev', 'Ranjan', 'Raut', 1, 543, None, 123]\n"
     ]
    }
   ],
   "source": [
    "'''.Q.15.Implement a code to find and remove duplicates from a list while preserving the original order of\n",
    "elements.'''\n",
    "og_list=[\"Dev\",\"Ranjan\",\"Raut\",1,543,True,None,True,123,1,\"Dev\"]\n",
    "unique_og_list=[]\n",
    "for i in og_list:\n",
    "    if i not in unique_og_list:\n",
    "        unique_og_list.append(i)\n",
    "print(\"Originally the list is:\",og_list)        \n",
    "print(\"List after removal of duplicates:\",unique_og_list)\n"
   ]
  },
  {
   "cell_type": "code",
   "execution_count": 21,
   "id": "111480e1",
   "metadata": {},
   "outputs": [
    {
     "name": "stdout",
     "output_type": "stream",
     "text": [
      "Fruit list is randomly organized\n"
     ]
    }
   ],
   "source": [
    "#.Q.16.Create a code to check if a given list is sorted (either in ascending or descending order) or not.\n",
    "fruit_list=['Mango', 'Banana', 'Apple','Grapes']\n",
    "ascending_fruit_list=sorted(fruit_list)\n",
    "descending_fruit_list=sorted(fruit_list,reverse=True)\n",
    "if fruit_list==ascending_fruit_list:\n",
    "    print(\"The fruit list is in ascending order\")\n",
    "elif fruit_list==descending_fruit_list:\n",
    "    print(\"The fruit list is in descending order\")\n",
    "else:\n",
    "    print(\"Fruit list is randomly organized\")"
   ]
  },
  {
   "cell_type": "code",
   "execution_count": 22,
   "id": "9b6960a0",
   "metadata": {},
   "outputs": [
    {
     "name": "stdout",
     "output_type": "stream",
     "text": [
      "List after merging & sorting both the list: [12, 23, 45, 234, 456, 1234, 5432, 34432]\n"
     ]
    }
   ],
   "source": [
    "#.Q.17.Write a code to merge two sorted lists into a single sorted list.\n",
    "list1=[12,234,45]\n",
    "list2=[1234,34432,5432,23,456,]\n",
    "list1.sort()\n",
    "list2.sort()\n",
    "merged_list=list1+list2\n",
    "merged_list.sort()\n",
    "print(\"List after merging & sorting both the list:\",merged_list)"
   ]
  },
  {
   "cell_type": "code",
   "execution_count": 23,
   "id": "5bf61bc5",
   "metadata": {},
   "outputs": [
    {
     "name": "stdout",
     "output_type": "stream",
     "text": [
      "['Dev', 'Ranjan', 'Raut']\n"
     ]
    }
   ],
   "source": [
    "#.Q.18.Implement a code to find the intersection of two given lists.\n",
    "list1=[\"Dev\",\"Ravi\",\"Golu\",\"Kalu\",\"Chotu\",\"Motu\",\"Ranjan\",\"Raut\"]\n",
    "list2=[\"Dev\",\"Ranjan\",\"Raut\",\"Patlu\",\"Tingu\"]\n",
    "intersection_list=set(list1)&set(list2)\n",
    "print(sorted(list(intersection_list)))"
   ]
  },
  {
   "cell_type": "code",
   "execution_count": 24,
   "id": "31ff4635",
   "metadata": {},
   "outputs": [
    {
     "name": "stdout",
     "output_type": "stream",
     "text": [
      "union of both lists: ['Tingu', 'Kalu', 'Raut', 'Patlu', 'Golu', 'Chotu', 'Ranjan', 'Dev', 'Ravi', 'Motu']\n"
     ]
    }
   ],
   "source": [
    "#.Q.19.Create a code to find the union of two lists without duplicates.\n",
    "list1=[\"Dev\",\"Ravi\",\"Golu\",\"Kalu\",\"Chotu\",\"Motu\",\"Ranjan\",\"Raut\"]\n",
    "list2=[\"Dev\",\"Ranjan\",\"Raut\",\"Patlu\",\"Tingu\"]\n",
    "union_list=set(list1)|set(list2)\n",
    "print(\"union of both lists:\",list(union_list))"
   ]
  },
  {
   "cell_type": "code",
   "execution_count": 25,
   "id": "5aa0a107",
   "metadata": {},
   "outputs": [
    {
     "name": "stdout",
     "output_type": "stream",
     "text": [
      "Shuffled List ['kalu', 'patlu', 'motu', 'chotu', 'Dev']\n"
     ]
    }
   ],
   "source": [
    "#.Q.20.Write a code to shuffle a given list randomly without using any built-in shuffle functions.\n",
    "l=[\"Dev\",\"kalu\",\"chotu\",\"motu\",\"patlu\"]\n",
    "#import random\n",
    "#random.shuffle(list1)\n",
    "import random\n",
    "\n",
    "for i in range(len(l)-1, 0, -1):\n",
    "  index = random.randint(0,i)  # Generate a random index between 0 and i\n",
    "\n",
    "  # Swap the elements at indices i and j\n",
    "  l[i], l[index] = l[index], l[i]\n",
    "print('Shuffled List',l)\n",
    "    "
   ]
  },
  {
   "cell_type": "code",
   "execution_count": 26,
   "id": "2b879325",
   "metadata": {},
   "outputs": [
    {
     "name": "stdout",
     "output_type": "stream",
     "text": [
      "Tuple of common elements: (32, 12)\n"
     ]
    }
   ],
   "source": [
    "'''.Q.21.Write a code that takes two tuples as input and returns a new tuple containing elements that are\n",
    "common to both input tuples.'''\n",
    "tuple1=(12,32,32)\n",
    "tuple2=(12,32,32)\n",
    "set_tuple1=set(tuple1)\n",
    "set_tuple2=set(tuple2)\n",
    "common_tuple_elements=tuple(set_tuple1&set_tuple2)\n",
    "print(\"Tuple of common elements:\",common_tuple_elements)"
   ]
  },
  {
   "cell_type": "code",
   "execution_count": 89,
   "id": "53652f49",
   "metadata": {},
   "outputs": [
    {
     "name": "stdout",
     "output_type": "stream",
     "text": [
      "Enter your 1st set of integer:1,2,3,4\n",
      "Enter your 2nd set of integer:2,3\n",
      "Intersection of both the sets: {2, 3}\n"
     ]
    }
   ],
   "source": [
    "'''Q.22.Create a code that prompts the user to enter two sets of integers separated by commas. Then, print the\n",
    "intersection of these two sets.\n",
    "'''\n",
    "str1=(input(\"Enter your 1st set of integer:\"))\n",
    "str2=(input(\"Enter your 2nd set of integer:\"))\n",
    "integer_set1 = {int(num1) for num1 in str1.split(',') }\n",
    "integer_set2 = {int(num2) for num2 in str2.split(',') }\n",
    "\n",
    "\n",
    "print(\"Intersection of both the sets:\",(integer_set1) & (integer_set2))"
   ]
  },
  {
   "cell_type": "code",
   "execution_count": 27,
   "id": "6871e5b8",
   "metadata": {},
   "outputs": [
    {
     "data": {
      "text/plain": [
       "(1, 2, 7, 4, 5, 6)"
      ]
     },
     "execution_count": 27,
     "metadata": {},
     "output_type": "execute_result"
    }
   ],
   "source": [
    "'''Q.23.Write a code to concatenate two tuples. The function should take two tuples as input and return a new\n",
    "tuple containing elements from both input tuples.\n",
    "\n",
    "concatenation_function=lambda x,y:x+y \n",
    "concatenation_function((1,2,3),(5,6,7))\n",
    "'''\n",
    "def conc_func(a,b):\n",
    "    return a+b\n",
    "a=(1,2,7)\n",
    "b=(4,5,6)\n",
    "conc_func(a,b)\n"
   ]
  },
  {
   "cell_type": "code",
   "execution_count": 32,
   "id": "444e4d48",
   "metadata": {},
   "outputs": [
    {
     "name": "stdout",
     "output_type": "stream",
     "text": [
      "Enter your 1st set:python\n",
      "Enter your 2nd set:machine\n",
      "Elements that present in 1st set but not in 2nd set: {'y', 'p', 'o', 't'}\n"
     ]
    }
   ],
   "source": [
    "'''.Q.24.Develop a code that prompts the user to input two sets of strings. Then, print the elements that are\n",
    "present in the first set but not in the second set.\n",
    "'''\n",
    "set1=set(input(\"Enter your 1st set:\"))\n",
    "set2=set(input(\"Enter your 2nd set:\"))\n",
    "el_set1=set1-set2\n",
    "print(\"Elements that present in 1st set but not in 2nd set:\",el_set1)\n",
    "#print(set1)"
   ]
  },
  {
   "cell_type": "code",
   "execution_count": 28,
   "id": "9938c43b",
   "metadata": {},
   "outputs": [
    {
     "name": "stdout",
     "output_type": "stream",
     "text": [
      "Elements within the specified range of indices: (3, 4)\n"
     ]
    }
   ],
   "source": [
    "'''.Q.25.Create a code that takes a tuple and two integers as input. The function should return a new tuple\n",
    "containing elements from the original tuple within the specified range of indices.\n",
    "'''\n",
    "tuple_func=lambda x,y,z:(x[i] for i in range(y,z))\n",
    "print(\"Elements within the specified range of indices:\",tuple(tuple_func((1,2,3,4,5),2,4)))"
   ]
  },
  {
   "cell_type": "code",
   "execution_count": 34,
   "id": "9965a4be",
   "metadata": {},
   "outputs": [
    {
     "name": "stdout",
     "output_type": "stream",
     "text": [
      "Enter your 1st set of characters:dev\n",
      "Enter your 2nd set of characters:raut\n",
      "union of both sets {'a', 'u', 'd', 'r', 'e', 't', 'v'}\n"
     ]
    }
   ],
   "source": [
    "'''.Q.26.Write a code that prompts the user to input two sets of characters. Then, print the union of these two sets.\n",
    "'''\n",
    "set1=set(input(\"Enter your 1st set of characters:\"))\n",
    "set2=set(input(\"Enter your 2nd set of characters:\"))\n",
    "set_union=set1|set2\n",
    "print(\"union of both sets\",set_union)"
   ]
  },
  {
   "cell_type": "code",
   "execution_count": 35,
   "id": "2b7d70d5",
   "metadata": {},
   "outputs": [
    {
     "name": "stdout",
     "output_type": "stream",
     "text": [
      "max of given tupel is: 543\n",
      "min of given tuple is: 1\n"
     ]
    }
   ],
   "source": [
    "'''.Q.27.Develop a code that takes a tuple of integers as input. The function should return the maximum and\n",
    "minimum values from the tuple using tuple unpacking.\n",
    "max_min_func=lambda x:(max(x),min(x))\n",
    "max_min_func((1,2,34,543))\n",
    "'''\n",
    "tupl=(1,2,34,543)\n",
    "from functools import reduce\n",
    "print(\"max of given tupel is:\",reduce(lambda x,y:x if x>=y else y ,tupl))\n",
    "print(\"min of given tuple is:\",reduce(lambda x,y:x if x<=y else y,tupl))          \n",
    "            "
   ]
  },
  {
   "cell_type": "code",
   "execution_count": 36,
   "id": "b06cf9a8",
   "metadata": {},
   "outputs": [
    {
     "name": "stdout",
     "output_type": "stream",
     "text": [
      "Union of both sets: {1, 2, 3, 4, 5, 6, 7, 8}\n",
      "Intersection of both sets: {4}\n",
      "Difference of set1 from set2: {1, 2, 3, 5}\n",
      "Difference of set2 from set1: {8, 6, 7}\n",
      "Symmetric difference of set1 and set2: {1, 2, 3, 5, 6, 7, 8}\n"
     ]
    }
   ],
   "source": [
    "'''.Q.28. Create a code that defines two sets of integers. Then, print the union, intersection, and difference of these\n",
    "two sets.\n",
    "'''\n",
    "set1={1,2,3,4,5}\n",
    "set2={4,6,7,8}\n",
    "print(\"Union of both sets:\",set1|set2)\n",
    "print(\"Intersection of both sets:\",set1&set2)\n",
    "print(\"Difference of set1 from set2:\",set1-set2)\n",
    "print(\"Difference of set2 from set1:\",set2-set1)\n",
    "print(\"Symmetric difference of set1 and set2:\",set1^set2)"
   ]
  },
  {
   "cell_type": "code",
   "execution_count": 40,
   "id": "48ebe331",
   "metadata": {},
   "outputs": [
    {
     "data": {
      "text/plain": [
       "('count of 2 in (1, 2, 3, 3, 3, 2):', 2)"
      ]
     },
     "execution_count": 40,
     "metadata": {},
     "output_type": "execute_result"
    }
   ],
   "source": [
    "'''Q.29.Write a code that takes a tuple and an element as input. The function should return the count of\n",
    "occurrences of the given element in the tuple.\n",
    "'''\n",
    "def count_tuple_element_func(t,e):\n",
    "    c=0\n",
    "    for i in t:\n",
    "        if i==e:\n",
    "            c+=1\n",
    "    return f\"count of {e} in {t}:\",c\n",
    "count_tuple_element_func((1,2,3,3,3,2),2)"
   ]
  },
  {
   "cell_type": "code",
   "execution_count": 41,
   "id": "4d223ef1",
   "metadata": {},
   "outputs": [
    {
     "name": "stdout",
     "output_type": "stream",
     "text": [
      "Enter your 1'st set of strings:dev\n",
      "Enter your 2nd set of string:data\n",
      "Symmetric difference of both sets: {'a', 't', 'e', 'v'}\n"
     ]
    }
   ],
   "source": [
    "'''.Q.30.Develop a code that prompts the user to input two sets of strings. Then, print the symmetric difference of\n",
    "these two sets.\n",
    "'''\n",
    "set1=set(input(\"Enter your 1'st set of strings:\"))\n",
    "set2=set(input(\"Enter your 2nd set of string:\"))\n",
    "print(\"Symmetric difference of both sets:\",set1^set2)"
   ]
  },
  {
   "cell_type": "code",
   "execution_count": 42,
   "id": "24cd9c21",
   "metadata": {},
   "outputs": [
    {
     "data": {
      "text/plain": [
       "{'Dev': 2, 'kalu': 1, 'lalu': 1, 'tingu': 1}"
      ]
     },
     "execution_count": 42,
     "metadata": {},
     "output_type": "execute_result"
    }
   ],
   "source": [
    "'''.Q.31. Write a code that takes a list of words as input and returns a dictionary where the keys are unique words\n",
    "and the values are the frequencies of those words in the input list.\n",
    "'''\n",
    "def dic(l):\n",
    "    d={}\n",
    "    for i in l:\n",
    "        d[i]=l.count(i)\n",
    "    return d\n",
    "dic([\"Dev\",\"Dev\",\"kalu\",\"lalu\",\"tingu\"])"
   ]
  },
  {
   "cell_type": "code",
   "execution_count": 10,
   "id": "5881e527",
   "metadata": {},
   "outputs": [
    {
     "data": {
      "text/plain": [
       "{'name': 'DevRanjan Raut',\n",
       " 'age': 24,\n",
       " 'interest': 'cricket',\n",
       " 'work': 'data science'}"
      ]
     },
     "execution_count": 10,
     "metadata": {},
     "output_type": "execute_result"
    }
   ],
   "source": [
    "'''.Q.32.Write a code that takes two dictionaries as input and merges them into a single dictionary. If there are\n",
    "common keys, the values should be added together.\n",
    "'''\n",
    "def merge_dictionaries(dict1,dict2):\n",
    "    merged_dict=dict1.copy()\n",
    "    for key,value in dict2.items():\n",
    "        if key in merged_dict:\n",
    "            merged_dict[key]+=value\n",
    "        else:\n",
    "            merged_dict[key]=value\n",
    "    return merged_dict\n",
    "dict1={\"name\":\"Dev\",\"age\":24,\"interest\":\"cricket\"}\n",
    "dict2={\"name\":\"Ranjan Raut\",\"work\":\"data science\"}\n",
    "merge_dictionaries(dict1,dict2)"
   ]
  },
  {
   "cell_type": "code",
   "execution_count": 44,
   "id": "55dc0d5d",
   "metadata": {},
   "outputs": [
    {
     "data": {
      "text/plain": [
       "{'sub': ['math', 'science'], 'math': 22, 'abc': None}"
      ]
     },
     "execution_count": 44,
     "metadata": {},
     "output_type": "execute_result"
    }
   ],
   "source": [
    "'''.Q.33.Write a code to access a value in a nested dictionary. The function should take the dictionary and a list of\n",
    "keys as input, and return the corresponding value. If any of the keys do not exist in the dictionary, the\n",
    "function should return None.\n",
    "'''\n",
    "dict1={\"name\":\"Dev\",\"sub\":[\"math\",\"science\"],\"marks\":{\"math\":22,\"science\":33}}\n",
    "list1=[\"sub\",\"math\",\"abc\"]\n",
    "def dic_value_exist(dict1,list1):\n",
    "    ke=[]\n",
    "    n_ke=[]\n",
    "    dict3={}\n",
    "    for keys in dict1:\n",
    "        ke.append(keys)\n",
    "        if type(dict1[keys])==dict:\n",
    "            for k in dict1[keys]:\n",
    "                n_ke.append(k)\n",
    "                if k in list1:\n",
    "                    dict3[k]=dict1[keys][k]\n",
    "        elif keys in list1:\n",
    "            dict3[keys]=dict1[keys]\n",
    "        else:\n",
    "            for i in list1:\n",
    "                if i not in ke and i not in n_ke:\n",
    "                    dict3[i]=None\n",
    "    return dict3\n",
    "            \n",
    "dic_value_exist(dict1,list1)"
   ]
  },
  {
   "cell_type": "code",
   "execution_count": 45,
   "id": "84c2c773",
   "metadata": {},
   "outputs": [
    {
     "data": {
      "text/plain": [
       "{'name': 'Dev', 'class': 'Python'}"
      ]
     },
     "execution_count": 45,
     "metadata": {},
     "output_type": "execute_result"
    }
   ],
   "source": [
    "'''\n",
    "Q.34. Write a code that takes a dictionary as input and returns a sorted version of it based on the values. You\n",
    "can choose whether to sort in ascending or descending order.\n",
    "'''\n",
    "dict1={\"name\":\"Dev\",\"class\":\"Python\"}\n",
    "#d={\"Book\": 3, \"Pen\": 1, \"Pencil\": 2}\n",
    "lst=sorted(dict1.items(), key=lambda x: x[1])\n",
    "dict(lst)"
   ]
  },
  {
   "cell_type": "code",
   "execution_count": 12,
   "id": "1eb82696",
   "metadata": {},
   "outputs": [
    {
     "name": "stdout",
     "output_type": "stream",
     "text": [
      "Inverted Dictionary: {1: ['a', 'c'], 2: ['b', 'e'], 3: ['d']}\n"
     ]
    }
   ],
   "source": [
    "'''.Q.35.Write a code that inverts a dictionary, swapping keys and values. Ensure that the inverted dictionary\n",
    "correctly handles cases where multiple keys have the same value by storing the keys as a list in the\n",
    "inverted dictionary.\n",
    "'''\n",
    "def invert_dictionary(original_dict):\n",
    "    inverted_dict={}\n",
    "    for key,value in original_dict.items():\n",
    "        if value in inverted_dict:\n",
    "            inverted_dict[value].append(key)\n",
    "        else:\n",
    "            inverted_dict[value]=[key]\n",
    "    return inverted_dict\n",
    "original_dict={\"a\":1,\"b\":2,\"c\":1,\"d\":3,\"e\":2}\n",
    "inverted_dict=invert_dictionary(original_dict)\n",
    "print(\"Inverted Dictionary:\",invert_dictionary(original_dict))"
   ]
  },
  {
   "cell_type": "code",
   "execution_count": null,
   "id": "5ba63dc1",
   "metadata": {},
   "outputs": [],
   "source": [
    "\n",
    "\n",
    "\n",
    "            "
   ]
  },
  {
   "cell_type": "code",
   "execution_count": null,
   "id": "3542e2d5",
   "metadata": {},
   "outputs": [],
   "source": []
  },
  {
   "cell_type": "code",
   "execution_count": null,
   "id": "c387abeb",
   "metadata": {},
   "outputs": [],
   "source": []
  },
  {
   "cell_type": "code",
   "execution_count": null,
   "id": "cc4e350b",
   "metadata": {},
   "outputs": [],
   "source": [
    "\n"
   ]
  },
  {
   "cell_type": "code",
   "execution_count": null,
   "id": "e4e181a1",
   "metadata": {},
   "outputs": [],
   "source": []
  },
  {
   "cell_type": "code",
   "execution_count": null,
   "id": "e7e7fd24",
   "metadata": {},
   "outputs": [],
   "source": []
  }
 ],
 "metadata": {
  "kernelspec": {
   "display_name": "Python 3 (ipykernel)",
   "language": "python",
   "name": "python3"
  },
  "language_info": {
   "codemirror_mode": {
    "name": "ipython",
    "version": 3
   },
   "file_extension": ".py",
   "mimetype": "text/x-python",
   "name": "python",
   "nbconvert_exporter": "python",
   "pygments_lexer": "ipython3",
   "version": "3.11.5"
  }
 },
 "nbformat": 4,
 "nbformat_minor": 5
}
